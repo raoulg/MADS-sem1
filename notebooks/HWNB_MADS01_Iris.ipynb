{
 "cells": [
  {
   "attachments": {},
   "cell_type": "markdown",
   "id": "0baedaae",
   "metadata": {},
   "source": [
    "# MADS01  An example of Exploratory Data Analysis\n",
    "\n",
    "## The Iris Dataset\n",
    "\n",
    "Notebook MADS01 presents a example of Exploratory Data Analysis (EDA for short). EDA is the main theme of the Unit of Study 1 of the MADS curriculum. \n",
    "\n",
    "What's EDA? According to Wikipedia, EDA is an approach of analyzing datasets to summarize their main characteristics, often using statistical graphics and other data visualization methods. A statistical model can be used or not, *but primarily EDA is for seeing what the data can tell us beyond the formal modeling* and thereby contrasts traditional hypothesis testing. Exploratory data analysis has been promoted by John Tukey since 1970 to encourage statisticians to *explore* the data, *and* possibly *formulate hypotheses* that could lead to new data collection and experiments. EDA is different from initial data analysis (IDA), which focuses more narrowly on checking assumptions required for model fitting and hypothesis testing, and handling missing values and making transformations of variables as needed. EDA *encompasses* IDA.\n",
    "\n",
    "Technically the process starts with importing the data into the analysis environment. Usually the data is not shaped in such a way that it is fit for analytical purposes. Tidying and transforming the data (aka \"data wrangling\") prepares it for visualization and modeling. Usually both the quality and the shape of the data is far from optimal. In real life use cases the wrangling process is difficult and extremely labour intensive.      \n",
    "![EDA](EDAProces.png \"EDA Steps\")\n",
    "\n",
    "<b>Bronvemelding toevoegen.</b>\n",
    "\n",
    "\n",
    "\n",
    "This example makes use of a very well known data set called the Iris data set. For didactical reasons the original data has been compromized structurally and qualitatively. \n",
    "\n",
    "The Iris flower data set is a multivariate data set introduced by the British statistician and biologist Ronald Fisher in his 1936 paper \"The use of multiple measurements in taxonomic problems\". It is sometimes called Anderson's Iris data set because Edgar Anderson collected the data to quantify the morphologic variation of Iris flowers of three related species. The data set consists of 50 samples from each of three species of Iris (Iris Setosa, Iris virginica, and Iris versicolor). Four features were measured from each sample: the length and the width of the sepals and petals, in centimeters (sepal = one of the usually separate, green parts that surround and protect the flower bud, petal = one of the usually ring of brightly colored petals surrounding the center part of the blossom). This dataset became a typical test case for many statistical classification techniques in machine learning.\n",
    "\n",
    "Content\n",
    "The dataset contains a set of 150 records under 5 attributes - Petal Length, Petal Width, Sepal Length, Sepal width and Class(Species).\n",
    "\n",
    "Acknowledgements\n",
    "This data set is free and is publicly available at the UCI Machine Learning Repository."
   ]
  },
  {
   "cell_type": "code",
   "execution_count": 1,
   "id": "07a4a78d",
   "metadata": {},
   "outputs": [],
   "source": [
    "# First setting is a so called magic command specifying that figures produced\n",
    "# by matplotlib, should be printed inline in the notebook cell\n",
    "%matplotlib inline"
   ]
  },
  {
   "attachments": {},
   "cell_type": "markdown",
   "id": "7a50de5a",
   "metadata": {},
   "source": [
    "## Import Data\n",
    "The first thing to do if you want to explore data is to import the data into the analysis environment. In this case the dataset is simple and small. It's stored in comma separated file format in a text file. Python pandas offers a host of functions allowing you to import data of various formats. Real life use cases usually require quite a bit of work to import and integrate the datasets into a useful analytical structure.    "
   ]
  },
  {
   "cell_type": "code",
   "execution_count": 116,
   "id": "4f1250e0",
   "metadata": {},
   "outputs": [
    {
     "data": {
      "text/html": [
       "<div>\n",
       "<style scoped>\n",
       "    .dataframe tbody tr th:only-of-type {\n",
       "        vertical-align: middle;\n",
       "    }\n",
       "\n",
       "    .dataframe tbody tr th {\n",
       "        vertical-align: top;\n",
       "    }\n",
       "\n",
       "    .dataframe thead th {\n",
       "        text-align: right;\n",
       "    }\n",
       "</style>\n",
       "<table border=\"1\" class=\"dataframe\">\n",
       "  <thead>\n",
       "    <tr style=\"text-align: right;\">\n",
       "      <th></th>\n",
       "      <th>5.1</th>\n",
       "      <th>3.5</th>\n",
       "      <th>1.4</th>\n",
       "      <th>2 mm</th>\n",
       "      <th>Iris-setosa</th>\n",
       "    </tr>\n",
       "  </thead>\n",
       "  <tbody>\n",
       "    <tr>\n",
       "      <th>0</th>\n",
       "      <td>4.9</td>\n",
       "      <td>3.0</td>\n",
       "      <td>1.4</td>\n",
       "      <td>2 mm</td>\n",
       "      <td>Iris-setosa</td>\n",
       "    </tr>\n",
       "    <tr>\n",
       "      <th>1</th>\n",
       "      <td>4.7</td>\n",
       "      <td>3.2</td>\n",
       "      <td>1.3</td>\n",
       "      <td>2 mm</td>\n",
       "      <td>Iris-setosa</td>\n",
       "    </tr>\n",
       "    <tr>\n",
       "      <th>2</th>\n",
       "      <td>4.6</td>\n",
       "      <td>3.1</td>\n",
       "      <td>1.5</td>\n",
       "      <td>2 mm</td>\n",
       "      <td>Iris-setosa</td>\n",
       "    </tr>\n",
       "    <tr>\n",
       "      <th>3</th>\n",
       "      <td>5.0</td>\n",
       "      <td>3.6</td>\n",
       "      <td>1.4</td>\n",
       "      <td>2 mm</td>\n",
       "      <td>Iris-setosa</td>\n",
       "    </tr>\n",
       "    <tr>\n",
       "      <th>4</th>\n",
       "      <td>5.4</td>\n",
       "      <td>3.9</td>\n",
       "      <td>1.7</td>\n",
       "      <td>4 mm</td>\n",
       "      <td>Iris-setosa</td>\n",
       "    </tr>\n",
       "    <tr>\n",
       "      <th>5</th>\n",
       "      <td>4.6</td>\n",
       "      <td>3.4</td>\n",
       "      <td>1.4</td>\n",
       "      <td>3 mm</td>\n",
       "      <td>Iris-setosa</td>\n",
       "    </tr>\n",
       "    <tr>\n",
       "      <th>6</th>\n",
       "      <td>5.0</td>\n",
       "      <td>3.4</td>\n",
       "      <td>1.5</td>\n",
       "      <td>2 mm</td>\n",
       "      <td>Iris-setosa</td>\n",
       "    </tr>\n",
       "    <tr>\n",
       "      <th>7</th>\n",
       "      <td>4.4</td>\n",
       "      <td>2.9</td>\n",
       "      <td>1.4</td>\n",
       "      <td>2 mm</td>\n",
       "      <td>Iris-setosa</td>\n",
       "    </tr>\n",
       "    <tr>\n",
       "      <th>8</th>\n",
       "      <td>4.9</td>\n",
       "      <td>3.1</td>\n",
       "      <td>1.5</td>\n",
       "      <td>1 mm</td>\n",
       "      <td>Iris-setosa</td>\n",
       "    </tr>\n",
       "    <tr>\n",
       "      <th>9</th>\n",
       "      <td>5.4</td>\n",
       "      <td>3.7</td>\n",
       "      <td>1.5</td>\n",
       "      <td>2 mm</td>\n",
       "      <td>Iris-setosa</td>\n",
       "    </tr>\n",
       "  </tbody>\n",
       "</table>\n",
       "</div>"
      ],
      "text/plain": [
       "   5.1  3.5  1.4  2 mm  Iris-setosa\n",
       "0  4.9  3.0  1.4  2 mm  Iris-setosa\n",
       "1  4.7  3.2  1.3  2 mm  Iris-setosa\n",
       "2  4.6  3.1  1.5  2 mm  Iris-setosa\n",
       "3  5.0  3.6  1.4  2 mm  Iris-setosa\n",
       "4  5.4  3.9  1.7  4 mm  Iris-setosa\n",
       "5  4.6  3.4  1.4  3 mm  Iris-setosa\n",
       "6  5.0  3.4  1.5  2 mm  Iris-setosa\n",
       "7  4.4  2.9  1.4  2 mm  Iris-setosa\n",
       "8  4.9  3.1  1.5  1 mm  Iris-setosa\n",
       "9  5.4  3.7  1.5  2 mm  Iris-setosa"
      ]
     },
     "execution_count": 116,
     "metadata": {},
     "output_type": "execute_result"
    }
   ],
   "source": [
    "# First import the package pandas containing functions allowing us to import\n",
    "# data in various formats (csv, excel, json, xml, etc)\n",
    "import pandas as pd\n",
    "\n",
    "# Read iris data stored in a comma separated value file called iris_dirty\n",
    "# into variable iris\n",
    "iris = pd.read_csv('../data/iris_dirty.csv')\n",
    "# Show 10 example rows to get a first impression of the data\n",
    "iris.head(10)"
   ]
  },
  {
   "cell_type": "code",
   "execution_count": 115,
   "id": "33fc689e",
   "metadata": {},
   "outputs": [],
   "source": [
    "# The data structure iris created on importing the csv file is called a \n",
    "# dataframe. A dataframe comes close to what in a relational database \n",
    "# environment is called a table (more formal it is not a table but a mathematical \n",
    "# relation: that's why we call these type of databases relational databases). \n",
    "\n",
    "# Already see some problems?\n",
    "\n",
    "# For one thing,it doesn't contain a header with feature/variable names. \n",
    "# Without a header you just don't know what kind of data you're looking at.\n",
    "\n",
    "# There's more though. Do you see more?"
   ]
  },
  {
   "cell_type": "code",
   "execution_count": 16,
   "id": "5bec6430",
   "metadata": {},
   "outputs": [
    {
     "data": {
      "text/html": [
       "<div>\n",
       "<style scoped>\n",
       "    .dataframe tbody tr th:only-of-type {\n",
       "        vertical-align: middle;\n",
       "    }\n",
       "\n",
       "    .dataframe tbody tr th {\n",
       "        vertical-align: top;\n",
       "    }\n",
       "\n",
       "    .dataframe thead th {\n",
       "        text-align: right;\n",
       "    }\n",
       "</style>\n",
       "<table border=\"1\" class=\"dataframe\">\n",
       "  <thead>\n",
       "    <tr style=\"text-align: right;\">\n",
       "      <th></th>\n",
       "      <th>sepal length</th>\n",
       "      <th>sepal width</th>\n",
       "      <th>petal length</th>\n",
       "      <th>petal width</th>\n",
       "      <th>class</th>\n",
       "    </tr>\n",
       "  </thead>\n",
       "  <tbody>\n",
       "    <tr>\n",
       "      <th>0</th>\n",
       "      <td>5.1</td>\n",
       "      <td>3.5</td>\n",
       "      <td>1.4</td>\n",
       "      <td>2 mm</td>\n",
       "      <td>Iris-setosa</td>\n",
       "    </tr>\n",
       "    <tr>\n",
       "      <th>1</th>\n",
       "      <td>4.9</td>\n",
       "      <td>3.0</td>\n",
       "      <td>1.4</td>\n",
       "      <td>2 mm</td>\n",
       "      <td>Iris-setosa</td>\n",
       "    </tr>\n",
       "    <tr>\n",
       "      <th>2</th>\n",
       "      <td>4.7</td>\n",
       "      <td>3.2</td>\n",
       "      <td>1.3</td>\n",
       "      <td>2 mm</td>\n",
       "      <td>Iris-setosa</td>\n",
       "    </tr>\n",
       "    <tr>\n",
       "      <th>3</th>\n",
       "      <td>4.6</td>\n",
       "      <td>3.1</td>\n",
       "      <td>1.5</td>\n",
       "      <td>2 mm</td>\n",
       "      <td>Iris-setosa</td>\n",
       "    </tr>\n",
       "    <tr>\n",
       "      <th>4</th>\n",
       "      <td>5.0</td>\n",
       "      <td>3.6</td>\n",
       "      <td>1.4</td>\n",
       "      <td>2 mm</td>\n",
       "      <td>Iris-setosa</td>\n",
       "    </tr>\n",
       "    <tr>\n",
       "      <th>...</th>\n",
       "      <td>...</td>\n",
       "      <td>...</td>\n",
       "      <td>...</td>\n",
       "      <td>...</td>\n",
       "      <td>...</td>\n",
       "    </tr>\n",
       "    <tr>\n",
       "      <th>146</th>\n",
       "      <td>6.7</td>\n",
       "      <td>3.0</td>\n",
       "      <td>5.2</td>\n",
       "      <td>23 mm</td>\n",
       "      <td>Iris-virginica</td>\n",
       "    </tr>\n",
       "    <tr>\n",
       "      <th>147</th>\n",
       "      <td>6.3</td>\n",
       "      <td>2.5</td>\n",
       "      <td>5.0</td>\n",
       "      <td>19 mm</td>\n",
       "      <td>Iris-virginica</td>\n",
       "    </tr>\n",
       "    <tr>\n",
       "      <th>148</th>\n",
       "      <td>6.5</td>\n",
       "      <td>3.0</td>\n",
       "      <td>5.2</td>\n",
       "      <td>20 mm</td>\n",
       "      <td>Iris-virginica</td>\n",
       "    </tr>\n",
       "    <tr>\n",
       "      <th>149</th>\n",
       "      <td>6.2</td>\n",
       "      <td>3.4</td>\n",
       "      <td>5.4</td>\n",
       "      <td>23 mm</td>\n",
       "      <td>Iris-virginica</td>\n",
       "    </tr>\n",
       "    <tr>\n",
       "      <th>150</th>\n",
       "      <td>5.9</td>\n",
       "      <td>3.0</td>\n",
       "      <td>5.1</td>\n",
       "      <td>18 mm</td>\n",
       "      <td>Iris-virginica</td>\n",
       "    </tr>\n",
       "  </tbody>\n",
       "</table>\n",
       "<p>151 rows × 5 columns</p>\n",
       "</div>"
      ],
      "text/plain": [
       "     sepal length  sepal width  petal length petal width           class\n",
       "0             5.1          3.5           1.4        2 mm     Iris-setosa\n",
       "1             4.9          3.0           1.4        2 mm     Iris-setosa\n",
       "2             4.7          3.2           1.3        2 mm     Iris-setosa\n",
       "3             4.6          3.1           1.5        2 mm     Iris-setosa\n",
       "4             5.0          3.6           1.4        2 mm     Iris-setosa\n",
       "..            ...          ...           ...         ...             ...\n",
       "146           6.7          3.0           5.2       23 mm  Iris-virginica\n",
       "147           6.3          2.5           5.0       19 mm  Iris-virginica\n",
       "148           6.5          3.0           5.2       20 mm  Iris-virginica\n",
       "149           6.2          3.4           5.4       23 mm  Iris-virginica\n",
       "150           5.9          3.0           5.1       18 mm  Iris-virginica\n",
       "\n",
       "[151 rows x 5 columns]"
      ]
     },
     "execution_count": 16,
     "metadata": {},
     "output_type": "execute_result"
    }
   ],
   "source": [
    "# Run the code in this cel. The names parameter lists the features names in \n",
    "# the right order fitting the data in the columns.\n",
    "\n",
    "iris = pd.read_csv('../data/iris_dirty.csv', \n",
    "                   header = None, \n",
    "                   names = ['sepal length', 'sepal width', 'petal length', \n",
    "                            'petal width', 'class'])\n",
    "iris"
   ]
  },
  {
   "cell_type": "code",
   "execution_count": 117,
   "id": "471ce0f2",
   "metadata": {},
   "outputs": [
    {
     "data": {
      "text/html": [
       "<div>\n",
       "<style scoped>\n",
       "    .dataframe tbody tr th:only-of-type {\n",
       "        vertical-align: middle;\n",
       "    }\n",
       "\n",
       "    .dataframe tbody tr th {\n",
       "        vertical-align: top;\n",
       "    }\n",
       "\n",
       "    .dataframe thead th {\n",
       "        text-align: right;\n",
       "    }\n",
       "</style>\n",
       "<table border=\"1\" class=\"dataframe\">\n",
       "  <thead>\n",
       "    <tr style=\"text-align: right;\">\n",
       "      <th></th>\n",
       "      <th>5.1</th>\n",
       "      <th>3.5</th>\n",
       "      <th>1.4</th>\n",
       "    </tr>\n",
       "  </thead>\n",
       "  <tbody>\n",
       "    <tr>\n",
       "      <th>count</th>\n",
       "      <td>150.000000</td>\n",
       "      <td>149.000000</td>\n",
       "      <td>150.000000</td>\n",
       "    </tr>\n",
       "    <tr>\n",
       "      <th>mean</th>\n",
       "      <td>6.204000</td>\n",
       "      <td>3.054362</td>\n",
       "      <td>3.780667</td>\n",
       "    </tr>\n",
       "    <tr>\n",
       "      <th>std</th>\n",
       "      <td>4.337876</td>\n",
       "      <td>0.432698</td>\n",
       "      <td>1.755364</td>\n",
       "    </tr>\n",
       "    <tr>\n",
       "      <th>min</th>\n",
       "      <td>4.300000</td>\n",
       "      <td>2.000000</td>\n",
       "      <td>1.000000</td>\n",
       "    </tr>\n",
       "    <tr>\n",
       "      <th>25%</th>\n",
       "      <td>5.100000</td>\n",
       "      <td>2.800000</td>\n",
       "      <td>1.600000</td>\n",
       "    </tr>\n",
       "    <tr>\n",
       "      <th>50%</th>\n",
       "      <td>5.800000</td>\n",
       "      <td>3.000000</td>\n",
       "      <td>4.400000</td>\n",
       "    </tr>\n",
       "    <tr>\n",
       "      <th>75%</th>\n",
       "      <td>6.400000</td>\n",
       "      <td>3.300000</td>\n",
       "      <td>5.100000</td>\n",
       "    </tr>\n",
       "    <tr>\n",
       "      <th>max</th>\n",
       "      <td>58.000000</td>\n",
       "      <td>4.400000</td>\n",
       "      <td>6.900000</td>\n",
       "    </tr>\n",
       "  </tbody>\n",
       "</table>\n",
       "</div>"
      ],
      "text/plain": [
       "              5.1         3.5         1.4\n",
       "count  150.000000  149.000000  150.000000\n",
       "mean     6.204000    3.054362    3.780667\n",
       "std      4.337876    0.432698    1.755364\n",
       "min      4.300000    2.000000    1.000000\n",
       "25%      5.100000    2.800000    1.600000\n",
       "50%      5.800000    3.000000    4.400000\n",
       "75%      6.400000    3.300000    5.100000\n",
       "max     58.000000    4.400000    6.900000"
      ]
     },
     "execution_count": 117,
     "metadata": {},
     "output_type": "execute_result"
    }
   ],
   "source": [
    "# Let's produce some summary statistics by executing the instance method \n",
    "# describe(). \n",
    "iris.describe()"
   ]
  },
  {
   "cell_type": "code",
   "execution_count": 18,
   "id": "f683313d",
   "metadata": {},
   "outputs": [
    {
     "data": {
      "text/plain": [
       "count      151\n",
       "unique      22\n",
       "top       2 mm\n",
       "freq        28\n",
       "Name: petal width, dtype: object"
      ]
     },
     "execution_count": 18,
     "metadata": {},
     "output_type": "execute_result"
    }
   ],
   "source": [
    "# Notice anything strange? First of all some columns seem to be missing (\"class\" \n",
    "# and \"petal width\"). The reason is simply that for non numerical columns \n",
    "# another kind of summary statistics applies. The two numerical\n",
    "# columns are included by default.\n",
    "\n",
    "# The count row should report 150 elements (see description of the Iris data \n",
    "# set at the top of this notebook).\n",
    "\n",
    "iris[\"petal width\"].describe()"
   ]
  },
  {
   "cell_type": "code",
   "execution_count": 19,
   "id": "25be52d2",
   "metadata": {},
   "outputs": [
    {
     "data": {
      "text/plain": [
       "count                 151\n",
       "unique                  4\n",
       "top       Iris-versicolor\n",
       "freq                   51\n",
       "Name: class, dtype: object"
      ]
     },
     "execution_count": 19,
     "metadata": {},
     "output_type": "execute_result"
    }
   ],
   "source": [
    "# Let's also produce the summary statistics for the column containing the \"class\" feature. \n",
    "iris[\"class\"].describe()\n",
    "# Besides the count problem we already identified, unique shows us that the set of class \n",
    "# values contains four unique values (which is one too many!).  "
   ]
  },
  {
   "cell_type": "code",
   "execution_count": 20,
   "id": "385f6df0",
   "metadata": {},
   "outputs": [
    {
     "data": {
      "text/html": [
       "<div>\n",
       "<style scoped>\n",
       "    .dataframe tbody tr th:only-of-type {\n",
       "        vertical-align: middle;\n",
       "    }\n",
       "\n",
       "    .dataframe tbody tr th {\n",
       "        vertical-align: top;\n",
       "    }\n",
       "\n",
       "    .dataframe thead th {\n",
       "        text-align: right;\n",
       "    }\n",
       "</style>\n",
       "<table border=\"1\" class=\"dataframe\">\n",
       "  <thead>\n",
       "    <tr style=\"text-align: right;\">\n",
       "      <th></th>\n",
       "      <th>sepal length</th>\n",
       "      <th>sepal width</th>\n",
       "      <th>petal length</th>\n",
       "      <th>petal width</th>\n",
       "      <th>class</th>\n",
       "    </tr>\n",
       "  </thead>\n",
       "  <tbody>\n",
       "    <tr>\n",
       "      <th>82</th>\n",
       "      <td>5.8</td>\n",
       "      <td>NaN</td>\n",
       "      <td>3.9</td>\n",
       "      <td>12 mm</td>\n",
       "      <td>Iris-versicolor</td>\n",
       "    </tr>\n",
       "  </tbody>\n",
       "</table>\n",
       "</div>"
      ],
      "text/plain": [
       "    sepal length  sepal width  petal length petal width            class\n",
       "82           5.8          NaN           3.9       12 mm  Iris-versicolor"
      ]
     },
     "execution_count": 20,
     "metadata": {},
     "output_type": "execute_result"
    }
   ],
   "source": [
    "# It looks as if a value is actually missing for sepal width. We can use a \n",
    "# pandas function: isnull(). The function retutrns true or false values per \n",
    "# iris row consisting of in this case one column value ('sepal width'):\n",
    "# iris['sepal width'].isnull()\n",
    "# The array of logicals (booleans) can be used to extract from the iris set \n",
    "# each row for which a value true has been generated.\n",
    "iris[iris['sepal width'].isnull()]"
   ]
  },
  {
   "cell_type": "code",
   "execution_count": 24,
   "id": "fd6295e1",
   "metadata": {},
   "outputs": [
    {
     "data": {
      "text/plain": [
       "2.78"
      ]
     },
     "execution_count": 24,
     "metadata": {},
     "output_type": "execute_result"
    }
   ],
   "source": [
    "# Pandas indicates that a value is missing by returning Nan (Not a Number).\n",
    "# Missingness of data in real use case datasets is a very common problem. \n",
    "# Especially in cases where data has been collected with different use in mind\n",
    "# than using it in for data science, quality issues like missingness are the \n",
    "# norm, not the exception. \n",
    "\n",
    "# Imputation is the technique of generating replacement data. For now we \n",
    "# \"solve\" the problem by placing the mean of column 'sepal width' of species \n",
    "# versicolor in the empty slot. Sometimes this is an acceptable strategy \n",
    "# (but usually it is not).\n",
    "\n",
    "iris_versicolor = iris[iris['class'] == 'Iris-versicolor']\n",
    "meanSepalWidth = pd.Series.mean(iris_versicolor['sepal width'])\n",
    "meanSepalWidth"
   ]
  },
  {
   "cell_type": "code",
   "execution_count": 25,
   "id": "2057f0b0",
   "metadata": {},
   "outputs": [
    {
     "data": {
      "text/plain": [
       "sepal length                5.8\n",
       "sepal width                2.78\n",
       "petal length                3.9\n",
       "petal width               12 mm\n",
       "class           Iris-versicolor\n",
       "Name: 82, dtype: object"
      ]
     },
     "execution_count": 25,
     "metadata": {},
     "output_type": "execute_result"
    }
   ],
   "source": [
    "# We can use the loc(ation) label 82 to specify which row to target. Dataframes have an index which by default \n",
    "# contains the sequence number of the row (starting at 0). So actually physical\n",
    "# row 83 is missing its \"sepal width\" value.\n",
    "iris.loc[82,'sepal width'] = meanSepalWidth\n",
    "iris.loc[82]"
   ]
  },
  {
   "cell_type": "code",
   "execution_count": 26,
   "id": "97114411",
   "metadata": {},
   "outputs": [
    {
     "data": {
      "text/html": [
       "<div>\n",
       "<style scoped>\n",
       "    .dataframe tbody tr th:only-of-type {\n",
       "        vertical-align: middle;\n",
       "    }\n",
       "\n",
       "    .dataframe tbody tr th {\n",
       "        vertical-align: top;\n",
       "    }\n",
       "\n",
       "    .dataframe thead th {\n",
       "        text-align: right;\n",
       "    }\n",
       "</style>\n",
       "<table border=\"1\" class=\"dataframe\">\n",
       "  <thead>\n",
       "    <tr style=\"text-align: right;\">\n",
       "      <th></th>\n",
       "      <th>sepal length</th>\n",
       "      <th>sepal width</th>\n",
       "      <th>petal length</th>\n",
       "      <th>petal width</th>\n",
       "    </tr>\n",
       "    <tr>\n",
       "      <th>class</th>\n",
       "      <th></th>\n",
       "      <th></th>\n",
       "      <th></th>\n",
       "      <th></th>\n",
       "    </tr>\n",
       "  </thead>\n",
       "  <tbody>\n",
       "    <tr>\n",
       "      <th>Iris-setosa</th>\n",
       "      <td>49</td>\n",
       "      <td>49</td>\n",
       "      <td>49</td>\n",
       "      <td>49</td>\n",
       "    </tr>\n",
       "    <tr>\n",
       "      <th>Iris-setsoa</th>\n",
       "      <td>1</td>\n",
       "      <td>1</td>\n",
       "      <td>1</td>\n",
       "      <td>1</td>\n",
       "    </tr>\n",
       "    <tr>\n",
       "      <th>Iris-versicolor</th>\n",
       "      <td>51</td>\n",
       "      <td>51</td>\n",
       "      <td>51</td>\n",
       "      <td>51</td>\n",
       "    </tr>\n",
       "    <tr>\n",
       "      <th>Iris-virginica</th>\n",
       "      <td>50</td>\n",
       "      <td>50</td>\n",
       "      <td>50</td>\n",
       "      <td>50</td>\n",
       "    </tr>\n",
       "  </tbody>\n",
       "</table>\n",
       "</div>"
      ],
      "text/plain": [
       "                 sepal length  sepal width  petal length  petal width\n",
       "class                                                                \n",
       "Iris-setosa                49           49            49           49\n",
       "Iris-setsoa                 1            1             1            1\n",
       "Iris-versicolor            51           51            51           51\n",
       "Iris-virginica             50           50            50           50"
      ]
     },
     "execution_count": 26,
     "metadata": {},
     "output_type": "execute_result"
    }
   ],
   "source": [
    "# Another problem is duplication of data caused by errors. Duplication of data \n",
    "# could be a plain fact of life given the domain, but in case errors like fi \n",
    "# typos caused duplication, we should solve it.\n",
    "# Pandas has a nice function to find duplicates. We can use the summary \n",
    "# statistics produced earlier pointing out that there's a problem with \n",
    "# a \"class\" value (unique four).\n",
    "iris.groupby('class').count()"
   ]
  },
  {
   "cell_type": "code",
   "execution_count": 27,
   "id": "f62065d4",
   "metadata": {},
   "outputs": [
    {
     "data": {
      "text/html": [
       "<div>\n",
       "<style scoped>\n",
       "    .dataframe tbody tr th:only-of-type {\n",
       "        vertical-align: middle;\n",
       "    }\n",
       "\n",
       "    .dataframe tbody tr th {\n",
       "        vertical-align: top;\n",
       "    }\n",
       "\n",
       "    .dataframe thead th {\n",
       "        text-align: right;\n",
       "    }\n",
       "</style>\n",
       "<table border=\"1\" class=\"dataframe\">\n",
       "  <thead>\n",
       "    <tr style=\"text-align: right;\">\n",
       "      <th></th>\n",
       "      <th>sepal length</th>\n",
       "      <th>sepal width</th>\n",
       "      <th>petal length</th>\n",
       "      <th>petal width</th>\n",
       "      <th>class</th>\n",
       "    </tr>\n",
       "  </thead>\n",
       "  <tbody>\n",
       "    <tr>\n",
       "      <th>49</th>\n",
       "      <td>5.0</td>\n",
       "      <td>3.3</td>\n",
       "      <td>1.4</td>\n",
       "      <td>2 mm</td>\n",
       "      <td>Iris-setsoa</td>\n",
       "    </tr>\n",
       "  </tbody>\n",
       "</table>\n",
       "</div>"
      ],
      "text/plain": [
       "    sepal length  sepal width  petal length petal width        class\n",
       "49           5.0          3.3           1.4        2 mm  Iris-setsoa"
      ]
     },
     "execution_count": 27,
     "metadata": {},
     "output_type": "execute_result"
    }
   ],
   "source": [
    "# It is obvious that the \"class\" value has been entered incorrectly as \n",
    "# Iris-setsoa. Let's repair it applying the same technique used some cells \n",
    "# upstream when imputing an substitute value for a missing \"sepal width\" value.\n",
    "iris[iris[\"class\"]=='Iris-setsoa']"
   ]
  },
  {
   "cell_type": "code",
   "execution_count": 29,
   "id": "b3000cc5",
   "metadata": {},
   "outputs": [
    {
     "data": {
      "text/plain": [
       "sepal length            5.0\n",
       "sepal width             3.3\n",
       "petal length            1.4\n",
       "petal width            2 mm\n",
       "class           Iris-setosa\n",
       "Name: 49, dtype: object"
      ]
     },
     "execution_count": 29,
     "metadata": {},
     "output_type": "execute_result"
    }
   ],
   "source": [
    "# Update the \"class\" value in row 50, location 49 to \"Iris-setosa\"\n",
    "iris.loc[49, \"class\"] = \"Iris-setosa\"\n",
    "iris.loc[49]"
   ]
  },
  {
   "cell_type": "code",
   "execution_count": null,
   "id": "eb4fd437",
   "metadata": {},
   "outputs": [],
   "source": [
    "# Decide what to do with the fact that 151 rows are still included.\n",
    "iris[iris.duplicated()]"
   ]
  },
  {
   "cell_type": "code",
   "execution_count": 30,
   "id": "61cb2c21",
   "metadata": {},
   "outputs": [
    {
     "data": {
      "text/html": [
       "<div>\n",
       "<style scoped>\n",
       "    .dataframe tbody tr th:only-of-type {\n",
       "        vertical-align: middle;\n",
       "    }\n",
       "\n",
       "    .dataframe tbody tr th {\n",
       "        vertical-align: top;\n",
       "    }\n",
       "\n",
       "    .dataframe thead th {\n",
       "        text-align: right;\n",
       "    }\n",
       "</style>\n",
       "<table border=\"1\" class=\"dataframe\">\n",
       "  <thead>\n",
       "    <tr style=\"text-align: right;\">\n",
       "      <th></th>\n",
       "      <th>sepal length</th>\n",
       "      <th>sepal width</th>\n",
       "      <th>petal length</th>\n",
       "      <th>petal width</th>\n",
       "    </tr>\n",
       "    <tr>\n",
       "      <th>class</th>\n",
       "      <th></th>\n",
       "      <th></th>\n",
       "      <th></th>\n",
       "      <th></th>\n",
       "    </tr>\n",
       "  </thead>\n",
       "  <tbody>\n",
       "    <tr>\n",
       "      <th>Iris-setosa</th>\n",
       "      <td>50</td>\n",
       "      <td>50</td>\n",
       "      <td>50</td>\n",
       "      <td>50</td>\n",
       "    </tr>\n",
       "    <tr>\n",
       "      <th>Iris-versicolor</th>\n",
       "      <td>50</td>\n",
       "      <td>50</td>\n",
       "      <td>50</td>\n",
       "      <td>50</td>\n",
       "    </tr>\n",
       "    <tr>\n",
       "      <th>Iris-virginica</th>\n",
       "      <td>50</td>\n",
       "      <td>50</td>\n",
       "      <td>50</td>\n",
       "      <td>50</td>\n",
       "    </tr>\n",
       "  </tbody>\n",
       "</table>\n",
       "</div>"
      ],
      "text/plain": [
       "                 sepal length  sepal width  petal length  petal width\n",
       "class                                                                \n",
       "Iris-setosa                50           50            50           50\n",
       "Iris-versicolor            50           50            50           50\n",
       "Iris-virginica             50           50            50           50"
      ]
     },
     "execution_count": 30,
     "metadata": {},
     "output_type": "execute_result"
    }
   ],
   "source": [
    "# For now I leave the duplicates in \"class\" setosa, but drop a \"class\" \n",
    "# versicolor (number 100). Reason is that there are 51 versicolors and it \n",
    "# now turns out that there are duplicates in this \"class\" of this species.\n",
    "\n",
    "# Run this statement only once. \n",
    "iris = iris.drop(iris.index[[100]])\n",
    "iris.groupby('class').count()"
   ]
  },
  {
   "cell_type": "code",
   "execution_count": 34,
   "id": "0ce2831d",
   "metadata": {},
   "outputs": [],
   "source": [
    "# And now the last known problem so far, the column with the mm indicator \n",
    "# in it. Let's program a function to convert the data into numerical data.\n",
    "\n",
    "# There's a pattern visible. All numeric data in \"petal width\" is trailed \n",
    "# by exactly one space and the mm indication. Let's use that!\n",
    "\n",
    "def convert_from_mm(row):\n",
    "    return pd.to_numeric(row[\"petal width\"].replace(' mm',''))/10\n",
    "            # replace replace one string by another string: one with a space \n",
    "            # in it to an empty value\n",
    "            # to_numeric casts the numeric string value into a true numeric \n",
    "            # value\n",
    "            # division bij 10 is needed tot turn milimetsr into centimeters"
   ]
  },
  {
   "cell_type": "code",
   "execution_count": 35,
   "id": "2154a531",
   "metadata": {},
   "outputs": [
    {
     "data": {
      "text/plain": [
       "0      0.2\n",
       "1      0.2\n",
       "2      0.2\n",
       "3      0.2\n",
       "4      0.2\n",
       "      ... \n",
       "146    2.3\n",
       "147    1.9\n",
       "148    2.0\n",
       "149    2.3\n",
       "150    1.8\n",
       "Name: petal width, Length: 150, dtype: float64"
      ]
     },
     "execution_count": 35,
     "metadata": {},
     "output_type": "execute_result"
    }
   ],
   "source": [
    "# Lets apply the function. The apply function operates on each row of a \n",
    "# dataframe.\n",
    "# The axis \"columns\" value spacifies that the column index (so row wise \n",
    "# execution of the function) but on a dataframe itself restricted to the \n",
    "# \"petal width\" column. \n",
    "iris['petal width']\n",
    "iris['petal width'] = iris.apply(convert_from_mm, axis = \"columns\")\n",
    "iris['petal width']"
   ]
  },
  {
   "cell_type": "code",
   "execution_count": 36,
   "id": "ae990146",
   "metadata": {},
   "outputs": [
    {
     "data": {
      "text/html": [
       "<div>\n",
       "<style scoped>\n",
       "    .dataframe tbody tr th:only-of-type {\n",
       "        vertical-align: middle;\n",
       "    }\n",
       "\n",
       "    .dataframe tbody tr th {\n",
       "        vertical-align: top;\n",
       "    }\n",
       "\n",
       "    .dataframe thead th {\n",
       "        text-align: right;\n",
       "    }\n",
       "</style>\n",
       "<table border=\"1\" class=\"dataframe\">\n",
       "  <thead>\n",
       "    <tr style=\"text-align: right;\">\n",
       "      <th></th>\n",
       "      <th>sepal length</th>\n",
       "      <th>sepal width</th>\n",
       "      <th>petal length</th>\n",
       "      <th>petal width</th>\n",
       "    </tr>\n",
       "  </thead>\n",
       "  <tbody>\n",
       "    <tr>\n",
       "      <th>count</th>\n",
       "      <td>150.000000</td>\n",
       "      <td>150.000000</td>\n",
       "      <td>150.000000</td>\n",
       "      <td>150.000000</td>\n",
       "    </tr>\n",
       "    <tr>\n",
       "      <th>mean</th>\n",
       "      <td>6.191333</td>\n",
       "      <td>3.054533</td>\n",
       "      <td>3.758667</td>\n",
       "      <td>1.198667</td>\n",
       "    </tr>\n",
       "    <tr>\n",
       "      <th>std</th>\n",
       "      <td>4.338310</td>\n",
       "      <td>0.433205</td>\n",
       "      <td>1.764420</td>\n",
       "      <td>0.763161</td>\n",
       "    </tr>\n",
       "    <tr>\n",
       "      <th>min</th>\n",
       "      <td>4.300000</td>\n",
       "      <td>2.000000</td>\n",
       "      <td>1.000000</td>\n",
       "      <td>0.100000</td>\n",
       "    </tr>\n",
       "    <tr>\n",
       "      <th>25%</th>\n",
       "      <td>5.100000</td>\n",
       "      <td>2.800000</td>\n",
       "      <td>1.600000</td>\n",
       "      <td>0.300000</td>\n",
       "    </tr>\n",
       "    <tr>\n",
       "      <th>50%</th>\n",
       "      <td>5.800000</td>\n",
       "      <td>3.000000</td>\n",
       "      <td>4.350000</td>\n",
       "      <td>1.300000</td>\n",
       "    </tr>\n",
       "    <tr>\n",
       "      <th>75%</th>\n",
       "      <td>6.400000</td>\n",
       "      <td>3.300000</td>\n",
       "      <td>5.100000</td>\n",
       "      <td>1.800000</td>\n",
       "    </tr>\n",
       "    <tr>\n",
       "      <th>max</th>\n",
       "      <td>58.000000</td>\n",
       "      <td>4.400000</td>\n",
       "      <td>6.900000</td>\n",
       "      <td>2.500000</td>\n",
       "    </tr>\n",
       "  </tbody>\n",
       "</table>\n",
       "</div>"
      ],
      "text/plain": [
       "       sepal length  sepal width  petal length  petal width\n",
       "count    150.000000   150.000000    150.000000   150.000000\n",
       "mean       6.191333     3.054533      3.758667     1.198667\n",
       "std        4.338310     0.433205      1.764420     0.763161\n",
       "min        4.300000     2.000000      1.000000     0.100000\n",
       "25%        5.100000     2.800000      1.600000     0.300000\n",
       "50%        5.800000     3.000000      4.350000     1.300000\n",
       "75%        6.400000     3.300000      5.100000     1.800000\n",
       "max       58.000000     4.400000      6.900000     2.500000"
      ]
     },
     "execution_count": 36,
     "metadata": {},
     "output_type": "execute_result"
    }
   ],
   "source": [
    "# Lets look one more time at the summary statistics now that everything \n",
    "# obvious to us has been repaired.\n",
    "iris.describe()\n",
    "# Notice the max value of \"sepal length\"? That's 58 centimeters for a flower \n",
    "# leaf!"
   ]
  },
  {
   "cell_type": "code",
   "execution_count": 37,
   "id": "c86d3e54",
   "metadata": {},
   "outputs": [
    {
     "data": {
      "text/html": [
       "<div>\n",
       "<style scoped>\n",
       "    .dataframe tbody tr th:only-of-type {\n",
       "        vertical-align: middle;\n",
       "    }\n",
       "\n",
       "    .dataframe tbody tr th {\n",
       "        vertical-align: top;\n",
       "    }\n",
       "\n",
       "    .dataframe thead tr th {\n",
       "        text-align: left;\n",
       "    }\n",
       "\n",
       "    .dataframe thead tr:last-of-type th {\n",
       "        text-align: right;\n",
       "    }\n",
       "</style>\n",
       "<table border=\"1\" class=\"dataframe\">\n",
       "  <thead>\n",
       "    <tr>\n",
       "      <th></th>\n",
       "      <th colspan=\"8\" halign=\"left\">sepal length</th>\n",
       "      <th colspan=\"2\" halign=\"left\">sepal width</th>\n",
       "      <th>...</th>\n",
       "      <th colspan=\"2\" halign=\"left\">petal length</th>\n",
       "      <th colspan=\"8\" halign=\"left\">petal width</th>\n",
       "    </tr>\n",
       "    <tr>\n",
       "      <th></th>\n",
       "      <th>count</th>\n",
       "      <th>mean</th>\n",
       "      <th>std</th>\n",
       "      <th>min</th>\n",
       "      <th>25%</th>\n",
       "      <th>50%</th>\n",
       "      <th>75%</th>\n",
       "      <th>max</th>\n",
       "      <th>count</th>\n",
       "      <th>mean</th>\n",
       "      <th>...</th>\n",
       "      <th>75%</th>\n",
       "      <th>max</th>\n",
       "      <th>count</th>\n",
       "      <th>mean</th>\n",
       "      <th>std</th>\n",
       "      <th>min</th>\n",
       "      <th>25%</th>\n",
       "      <th>50%</th>\n",
       "      <th>75%</th>\n",
       "      <th>max</th>\n",
       "    </tr>\n",
       "    <tr>\n",
       "      <th>class</th>\n",
       "      <th></th>\n",
       "      <th></th>\n",
       "      <th></th>\n",
       "      <th></th>\n",
       "      <th></th>\n",
       "      <th></th>\n",
       "      <th></th>\n",
       "      <th></th>\n",
       "      <th></th>\n",
       "      <th></th>\n",
       "      <th></th>\n",
       "      <th></th>\n",
       "      <th></th>\n",
       "      <th></th>\n",
       "      <th></th>\n",
       "      <th></th>\n",
       "      <th></th>\n",
       "      <th></th>\n",
       "      <th></th>\n",
       "      <th></th>\n",
       "      <th></th>\n",
       "    </tr>\n",
       "  </thead>\n",
       "  <tbody>\n",
       "    <tr>\n",
       "      <th>Iris-setosa</th>\n",
       "      <td>50.0</td>\n",
       "      <td>5.006</td>\n",
       "      <td>0.352490</td>\n",
       "      <td>4.3</td>\n",
       "      <td>4.8</td>\n",
       "      <td>5.0</td>\n",
       "      <td>5.20</td>\n",
       "      <td>5.8</td>\n",
       "      <td>50.0</td>\n",
       "      <td>3.4180</td>\n",
       "      <td>...</td>\n",
       "      <td>1.575</td>\n",
       "      <td>1.9</td>\n",
       "      <td>50.0</td>\n",
       "      <td>0.244</td>\n",
       "      <td>0.107210</td>\n",
       "      <td>0.1</td>\n",
       "      <td>0.2</td>\n",
       "      <td>0.2</td>\n",
       "      <td>0.3</td>\n",
       "      <td>0.6</td>\n",
       "    </tr>\n",
       "    <tr>\n",
       "      <th>Iris-versicolor</th>\n",
       "      <td>50.0</td>\n",
       "      <td>5.936</td>\n",
       "      <td>0.516171</td>\n",
       "      <td>4.9</td>\n",
       "      <td>5.6</td>\n",
       "      <td>5.9</td>\n",
       "      <td>6.30</td>\n",
       "      <td>7.0</td>\n",
       "      <td>50.0</td>\n",
       "      <td>2.7716</td>\n",
       "      <td>...</td>\n",
       "      <td>4.600</td>\n",
       "      <td>5.1</td>\n",
       "      <td>50.0</td>\n",
       "      <td>1.326</td>\n",
       "      <td>0.197753</td>\n",
       "      <td>1.0</td>\n",
       "      <td>1.2</td>\n",
       "      <td>1.3</td>\n",
       "      <td>1.5</td>\n",
       "      <td>1.8</td>\n",
       "    </tr>\n",
       "    <tr>\n",
       "      <th>Iris-virginica</th>\n",
       "      <td>50.0</td>\n",
       "      <td>7.632</td>\n",
       "      <td>7.295356</td>\n",
       "      <td>4.9</td>\n",
       "      <td>6.3</td>\n",
       "      <td>6.5</td>\n",
       "      <td>7.05</td>\n",
       "      <td>58.0</td>\n",
       "      <td>50.0</td>\n",
       "      <td>2.9740</td>\n",
       "      <td>...</td>\n",
       "      <td>5.875</td>\n",
       "      <td>6.9</td>\n",
       "      <td>50.0</td>\n",
       "      <td>2.026</td>\n",
       "      <td>0.274650</td>\n",
       "      <td>1.4</td>\n",
       "      <td>1.8</td>\n",
       "      <td>2.0</td>\n",
       "      <td>2.3</td>\n",
       "      <td>2.5</td>\n",
       "    </tr>\n",
       "  </tbody>\n",
       "</table>\n",
       "<p>3 rows × 32 columns</p>\n",
       "</div>"
      ],
      "text/plain": [
       "                sepal length                                               \n",
       "                       count   mean       std  min  25%  50%   75%   max   \n",
       "class                                                                      \n",
       "Iris-setosa             50.0  5.006  0.352490  4.3  4.8  5.0  5.20   5.8  \\\n",
       "Iris-versicolor         50.0  5.936  0.516171  4.9  5.6  5.9  6.30   7.0   \n",
       "Iris-virginica          50.0  7.632  7.295356  4.9  6.3  6.5  7.05  58.0   \n",
       "\n",
       "                sepal width          ... petal length      petal width          \n",
       "                      count    mean  ...          75%  max       count   mean   \n",
       "class                                ...                                        \n",
       "Iris-setosa            50.0  3.4180  ...        1.575  1.9        50.0  0.244  \\\n",
       "Iris-versicolor        50.0  2.7716  ...        4.600  5.1        50.0  1.326   \n",
       "Iris-virginica         50.0  2.9740  ...        5.875  6.9        50.0  2.026   \n",
       "\n",
       "                                                    \n",
       "                      std  min  25%  50%  75%  max  \n",
       "class                                               \n",
       "Iris-setosa      0.107210  0.1  0.2  0.2  0.3  0.6  \n",
       "Iris-versicolor  0.197753  1.0  1.2  1.3  1.5  1.8  \n",
       "Iris-virginica   0.274650  1.4  1.8  2.0  2.3  2.5  \n",
       "\n",
       "[3 rows x 32 columns]"
      ]
     },
     "execution_count": 37,
     "metadata": {},
     "output_type": "execute_result"
    }
   ],
   "source": [
    "# Visualisation of data is a very relevant part of the Exploratory Data Analysis process. \" Picture truly tell more than \n",
    "# thousand words\". Let's first produce statistics per \"class\" level (the three flower species)\n",
    "iris.groupby(\"class\").describe()"
   ]
  },
  {
   "cell_type": "code",
   "execution_count": 38,
   "id": "255b96e3",
   "metadata": {},
   "outputs": [
    {
     "data": {
      "text/plain": [
       "class\n",
       "Iris-setosa        [[Axes(0.125,0.545217;0.336957x0.334783), Axes...\n",
       "Iris-versicolor    [[Axes(0.125,0.545217;0.336957x0.334783), Axes...\n",
       "Iris-virginica     [[Axes(0.125,0.545217;0.336957x0.334783), Axes...\n",
       "dtype: object"
      ]
     },
     "execution_count": 38,
     "metadata": {},
     "output_type": "execute_result"
    },
    {
     "data": {
      "image/png": "[encoded data removed]",
      "text/plain": [
       "<Figure size 640x480 with 4 Axes>"
      ]
     },
     "metadata": {},
     "output_type": "display_data"
    },
    {
     "data": {
      "image/png": "[encoded data removed]",
      "text/plain": [
       "<Figure size 640x480 with 4 Axes>"
      ]
     },
     "metadata": {},
     "output_type": "display_data"
    },
    {
     "data": {
      "image/png": "[encoded data removed]",
      "text/plain": [
       "<Figure size 640x480 with 4 Axes>"
      ]
     },
     "metadata": {},
     "output_type": "display_data"
    }
   ],
   "source": [
    "# Now plot a histogram per level. \n",
    "iris.groupby(\"class\").hist()"
   ]
  },
  {
   "cell_type": "code",
   "execution_count": 40,
   "id": "c76d46a1",
   "metadata": {},
   "outputs": [
    {
     "data": {
      "text/plain": [
       "<seaborn.axisgrid.JointGrid at 0x1ad04996990>"
      ]
     },
     "execution_count": 40,
     "metadata": {},
     "output_type": "execute_result"
    },
    {
     "data": {
      "image/png": "[encoded data removed]",
      "text/plain": [
       "<Figure size 600x600 with 3 Axes>"
      ]
     },
     "metadata": {},
     "output_type": "display_data"
    }
   ],
   "source": [
    "# let's try to find out if there's a linear relationship between \n",
    "# sepal and petal lengths and if there's some sense in manipulating\n",
    "# the outlier of 58 centimers.\n",
    "import seaborn as sns\n",
    "sns.jointplot(x=iris['sepal length'], y=iris['petal length'])\n",
    "# Just looking at the scatter plot, yes there's a strong linear relationship\n",
    "# but it doesn't express itself numerically. "
   ]
  },
  {
   "cell_type": "code",
   "execution_count": 47,
   "id": "cb782eb7",
   "metadata": {},
   "outputs": [
    {
     "data": {
      "text/plain": [
       "0.23"
      ]
     },
     "execution_count": 47,
     "metadata": {},
     "output_type": "execute_result"
    }
   ],
   "source": [
    "# How strong is the linear relationship between petal length and sepal length?\n",
    "# Calculate the Pearson correlation coefficient rho. One indicates a perfect \n",
    "# linear relationship, zero no linear relationship at all. \n",
    "import numpy as np\n",
    "\n",
    "iris_rho = iris[\"sepal length\"].corr(iris[\"petal length\"])\n",
    "iris_rho\n",
    "np.round(iris_rho,2)"
   ]
  },
  {
   "cell_type": "code",
   "execution_count": 48,
   "id": "0b2d6b6c",
   "metadata": {},
   "outputs": [
    {
     "data": {
      "text/plain": [
       "0.87"
      ]
     },
     "execution_count": 48,
     "metadata": {},
     "output_type": "execute_result"
    }
   ],
   "source": [
    "# It is reasonable to assume that 58 centimers is the cause of a data entry \n",
    "# msitake. Probably the sepal lenght should be 5.8 centimers.\n",
    "# Remember it concerned row 143.\n",
    "iris.loc[143, \"sepal length\"] = 5.8\n",
    "iris.loc[143]\n",
    "iris_rho = iris[\"sepal length\"].corr(iris[\"petal length\"])\n",
    "iris_rho\n",
    "np.round(iris_rho,2)\n",
    "# Seems to have been a sensible \"repair\" action!"
   ]
  },
  {
   "cell_type": "code",
   "execution_count": 49,
   "id": "d219e7ca",
   "metadata": {},
   "outputs": [
    {
     "data": {
      "text/plain": [
       "<seaborn.axisgrid.JointGrid at 0x1ad04d691d0>"
      ]
     },
     "execution_count": 49,
     "metadata": {},
     "output_type": "execute_result"
    },
    {
     "data": {
      "image/png": "[encoded data removed]",
      "text/plain": [
       "<Figure size 600x600 with 3 Axes>"
      ]
     },
     "metadata": {},
     "output_type": "display_data"
    }
   ],
   "source": [
    "# Plot again to check. Don't let the plot fool you. Totally different scaling \n",
    "# of the x-axis may cause you to think there's no strong linear realationship.\n",
    "sns.jointplot(x=iris['sepal length'], y=iris['petal length'])"
   ]
  },
  {
   "cell_type": "code",
   "execution_count": 113,
   "id": "7c0fd1bb",
   "metadata": {},
   "outputs": [
    {
     "data": {
      "text/html": [
       "<div>\n",
       "<style scoped>\n",
       "    .dataframe tbody tr th:only-of-type {\n",
       "        vertical-align: middle;\n",
       "    }\n",
       "\n",
       "    .dataframe tbody tr th {\n",
       "        vertical-align: top;\n",
       "    }\n",
       "\n",
       "    .dataframe thead th {\n",
       "        text-align: right;\n",
       "    }\n",
       "</style>\n",
       "<table border=\"1\" class=\"dataframe\">\n",
       "  <thead>\n",
       "    <tr style=\"text-align: right;\">\n",
       "      <th></th>\n",
       "      <th>petal width</th>\n",
       "      <th>petal length</th>\n",
       "      <th>sepal width</th>\n",
       "      <th>sepal length</th>\n",
       "    </tr>\n",
       "  </thead>\n",
       "  <tbody>\n",
       "    <tr>\n",
       "      <th>petal width</th>\n",
       "      <td>1.000000</td>\n",
       "      <td>0.962757</td>\n",
       "      <td>-0.356862</td>\n",
       "      <td>0.817954</td>\n",
       "    </tr>\n",
       "    <tr>\n",
       "      <th>petal length</th>\n",
       "      <td>0.962757</td>\n",
       "      <td>1.000000</td>\n",
       "      <td>-0.420795</td>\n",
       "      <td>0.871754</td>\n",
       "    </tr>\n",
       "    <tr>\n",
       "      <th>sepal width</th>\n",
       "      <td>-0.356862</td>\n",
       "      <td>-0.420795</td>\n",
       "      <td>1.000000</td>\n",
       "      <td>-0.109532</td>\n",
       "    </tr>\n",
       "    <tr>\n",
       "      <th>sepal length</th>\n",
       "      <td>0.817954</td>\n",
       "      <td>0.871754</td>\n",
       "      <td>-0.109532</td>\n",
       "      <td>1.000000</td>\n",
       "    </tr>\n",
       "  </tbody>\n",
       "</table>\n",
       "</div>"
      ],
      "text/plain": [
       "              petal width  petal length  sepal width  sepal length\n",
       "petal width      1.000000      0.962757    -0.356862      0.817954\n",
       "petal length     0.962757      1.000000    -0.420795      0.871754\n",
       "sepal width     -0.356862     -0.420795     1.000000     -0.109532\n",
       "sepal length     0.817954      0.871754    -0.109532      1.000000"
      ]
     },
     "execution_count": 113,
     "metadata": {},
     "output_type": "execute_result"
    }
   ],
   "source": [
    "# Let's wrap up with a nice overview of correlations between all the nunmeric \n",
    "# features.\n",
    "# Create a correlation matrix executing instance method corr(), than plot it \n",
    "# in a heatmap (colors express correlation).\n",
    "\n",
    "numcols = [\"petal width\" , \"petal length\", \"sepal width\", \"sepal length\"]\n",
    "iris_num = iris.reindex(columns = numcols)\n",
    "\n",
    "# or iris_num = iris.drop(\"class\", axis = 1) or ...\n",
    "\n",
    "# Next we create a correlation matrix.\n",
    "cormat = iris_num.corr()\n",
    "cormat"
   ]
  },
  {
   "cell_type": "code",
   "execution_count": 114,
   "id": "b476a041",
   "metadata": {},
   "outputs": [
    {
     "data": {
      "text/plain": [
       "<Axes: >"
      ]
     },
     "execution_count": 114,
     "metadata": {},
     "output_type": "execute_result"
    },
    {
     "data": {
      "image/png": "[encoded data removed]",
      "text/plain": [
       "<Figure size 640x480 with 2 Axes>"
      ]
     },
     "metadata": {},
     "output_type": "display_data"
    }
   ],
   "source": [
    "# Finally we plot the correlation data in a heatmap format\n",
    "sns.heatmap(cormat, annot = True)"
   ]
  },
  {
   "cell_type": "code",
   "execution_count": 51,
   "id": "187d7da2",
   "metadata": {},
   "outputs": [],
   "source": [
    "# Can we get more information from the data visualizing more creatively now\n",
    "# that the data are in better shape? One question would be if it is possible \n",
    "# to separate classes from one and another on the basis of the feature data\n",
    "# available.\n",
    "# We'll use a more powerful package to create visualizations hopefully providing\n",
    "# us this kind of information.\n",
    "import matplotlib.pylab as plt\n",
    "from matplotlib.colors import ListedColormap"
   ]
  },
  {
   "cell_type": "code",
   "execution_count": 70,
   "id": "bdfc855a",
   "metadata": {},
   "outputs": [
    {
     "data": {
      "text/plain": [
       "<matplotlib.legend.Legend at 0x1ad067efb90>"
      ]
     },
     "execution_count": 70,
     "metadata": {},
     "output_type": "execute_result"
    },
    {
     "data": {
      "image/png": "[encoded data removed]",
      "text/plain": [
       "<Figure size 1300x700 with 1 Axes>"
      ]
     },
     "metadata": {},
     "output_type": "display_data"
    }
   ],
   "source": [
    "# Let's focus on the same two features of which we calculated the Pearson linear correlation \n",
    "# coefficient rho.\n",
    "setosa = iris[iris[\"class\"] == \"Iris-setosa\"]\n",
    "versicolor = iris[iris[\"class\"] =='Iris-versicolor']\n",
    "virginica = iris[iris[\"class\"] =='Iris-virginica']\n",
    "\n",
    "fig, ax = plt.subplots()\n",
    "fig.set_size_inches(13, 7) # adjusting the length and width of plot\n",
    "\n",
    "# lables and scatter points\n",
    "ax.scatter(setosa['petal length'], setosa['sepal length'], label=\"Setosa\", facecolor=\"blue\")\n",
    "ax.scatter(versicolor['petal length'], versicolor['sepal length'], label=\"Versicolor\", facecolor=\"green\")\n",
    "ax.scatter(virginica['petal length'], virginica['sepal length'], label=\"Virginica\", facecolor=\"red\")\n",
    "\n",
    "\n",
    "ax.set_xlabel(\"petal length (cm)\")\n",
    "ax.set_ylabel(\"sepal length (cm)\")\n",
    "ax.grid()\n",
    "ax.set_title(\"Iris Petal and Sepal Lenght Scatter Plot\")\n",
    "ax.legend()"
   ]
  },
  {
   "cell_type": "code",
   "execution_count": 72,
   "id": "16ef92c9",
   "metadata": {},
   "outputs": [
    {
     "data": {
      "text/plain": [
       "<matplotlib.legend.Legend at 0x1ad068bdb10>"
      ]
     },
     "execution_count": 72,
     "metadata": {},
     "output_type": "execute_result"
    },
    {
     "data": {
      "image/png": "[encoded data removed]",
      "text/plain": [
       "<Figure size 1300x700 with 1 Axes>"
      ]
     },
     "metadata": {},
     "output_type": "display_data"
    }
   ],
   "source": [
    "# Classes seem to separe reasonably well in this two dimensional space.\n",
    "# Give it a try using just the petals.\n",
    "# labels and scatter points\n",
    "fig, ax = plt.subplots()\n",
    "fig.set_size_inches(13, 7) \n",
    "\n",
    "ax.scatter(setosa['petal length'], setosa['petal width'], label=\"Setosa\", facecolor=\"blue\")\n",
    "ax.scatter(versicolor['petal length'], versicolor['petal width'], label=\"Versicolor\", facecolor=\"green\")\n",
    "ax.scatter(virginica['petal length'], virginica['petal width'], label=\"Virginica\", facecolor=\"red\")\n",
    "\n",
    "\n",
    "ax.set_xlabel(\"petal length (cm)\")\n",
    "ax.set_ylabel(\"petal width (cm)\")\n",
    "ax.grid()\n",
    "ax.set_title(\"Iris Petal Scatter Plot\")\n",
    "ax.legend()\n"
   ]
  },
  {
   "cell_type": "code",
   "execution_count": 102,
   "id": "7bfd9a8b",
   "metadata": {},
   "outputs": [
    {
     "data": {
      "text/plain": [
       "((90, 4), (90,), (60, 4), (60,))"
      ]
     },
     "execution_count": 102,
     "metadata": {},
     "output_type": "execute_result"
    }
   ],
   "source": [
    "# An even better separation of classes is visible using petal data! We'll try \n",
    "# to create a basic predictive claasification model of type k-Nearest Neighbor.\n",
    "\n",
    "# Creating any kind model and testing its performance at minimum requires\n",
    "# us to create training data and test datasets. The test data is kept unseen \n",
    "# by de training process. This way the test set judges statistically (more) \n",
    "# reliable what the true performance of the model actually is. Train the model \n",
    "# using training data, test it on data kept unseen by the training process.\n",
    "\n",
    "# We split the dataset in training and target subsets by setting a certain \n",
    "# percentage of the data apart just for testing the model once \n",
    "# (fi 40%). \n",
    "# Package sklearn.model_selection offers function train_test_split\n",
    "# helping us out, doing the \"heavy weight lifting\" for us.\n",
    "from sklearn.model_selection import train_test_split\n",
    "y = iris['class']\n",
    "x = iris.drop('class', axis = 1)\n",
    "x_train, x_test, y_train, y_test = train_test_split(x, y, test_size = 0.4)\n",
    "# Checking the shapes of the sets\n",
    "x_train.shape, y_train.shape, x_test.shape, y_test.shape\n",
    "# 90 training samples, 60 test samples"
   ]
  },
  {
   "attachments": {},
   "cell_type": "markdown",
   "id": "94dbc575",
   "metadata": {},
   "source": [
    "## k-Nearest Neighbor classification\n",
    "\n",
    "Conceptually a \"k\" Nearest Neighbour classifyer is an extremely simple type of classifyer. It executes what in English is proverbially stated as \"Birds of a feather flock together\". The idea implemented in this classifyer is that objects of the same kind, look alike in terms of their features. Technically data points (our Iris flowers) are loaded in a two dimensional space (\"petal length\", \"petal width\"). \n",
    "\n",
    "When trying to predict the outcome (the kind of Iris flower) using a particular test example, the test example is also positioned in the same two dimensional space and its \"k\" (fi \"k\" = 5, 7 or 11 or ..., note: the actual choice of the \"k\" value matters a lot, tuning the most basic k-NN model implies tuning the \"k\" value for optimal classification performance) nearest neighbors are used to determine the class of the test case (choice is made on the basis of the majority vote). The test case its real class level is also known (y_test), so the performance of the classifyer can be determined by comparing the real with the predicted class level. \n",
    "\n",
    "The distance to all the \"k\" neighbors can be calculated easily for instance applying the Pythagoras Theorem (in two dimensions). List the distances in ascending order and pick the first \"k\" elements (5, 11 whatever the \"k\" value) and determine the majority class level. That's the predicted class level!"
   ]
  },
  {
   "cell_type": "code",
   "execution_count": 103,
   "id": "117bc010",
   "metadata": {},
   "outputs": [],
   "source": [
    "# Import the subpackage neighbors part of the complete sklearn (scikit-learn) package \n",
    "from sklearn import neighbors\n",
    "clf = neighbors.KNeighborsClassifier(n_neighbors = 11)"
   ]
  },
  {
   "cell_type": "code",
   "execution_count": 104,
   "id": "da91b72f",
   "metadata": {},
   "outputs": [
    {
     "data": {
      "text/html": [
       "<style>#sk-container-id-7 {color: black;background-color: white;}#sk-container-id-7 pre{padding: 0;}#sk-container-id-7 div.sk-toggleable {background-color: white;}#sk-container-id-7 label.sk-toggleable__label {cursor: pointer;display: block;width: 100%;margin-bottom: 0;padding: 0.3em;box-sizing: border-box;text-align: center;}#sk-container-id-7 label.sk-toggleable__label-arrow:before {content: \"▸\";float: left;margin-right: 0.25em;color: #696969;}#sk-container-id-7 label.sk-toggleable__label-arrow:hover:before {color: black;}#sk-container-id-7 div.sk-estimator:hover label.sk-toggleable__label-arrow:before {color: black;}#sk-container-id-7 div.sk-toggleable__content {max-height: 0;max-width: 0;overflow: hidden;text-align: left;background-color: #f0f8ff;}#sk-container-id-7 div.sk-toggleable__content pre {margin: 0.2em;color: black;border-radius: 0.25em;background-color: #f0f8ff;}#sk-container-id-7 input.sk-toggleable__control:checked~div.sk-toggleable__content {max-height: 200px;max-width: 100%;overflow: auto;}#sk-container-id-7 input.sk-toggleable__control:checked~label.sk-toggleable__label-arrow:before {content: \"▾\";}#sk-container-id-7 div.sk-estimator input.sk-toggleable__control:checked~label.sk-toggleable__label {background-color: #d4ebff;}#sk-container-id-7 div.sk-label input.sk-toggleable__control:checked~label.sk-toggleable__label {background-color: #d4ebff;}#sk-container-id-7 input.sk-hidden--visually {border: 0;clip: rect(1px 1px 1px 1px);clip: rect(1px, 1px, 1px, 1px);height: 1px;margin: -1px;overflow: hidden;padding: 0;position: absolute;width: 1px;}#sk-container-id-7 div.sk-estimator {font-family: monospace;background-color: #f0f8ff;border: 1px dotted black;border-radius: 0.25em;box-sizing: border-box;margin-bottom: 0.5em;}#sk-container-id-7 div.sk-estimator:hover {background-color: #d4ebff;}#sk-container-id-7 div.sk-parallel-item::after {content: \"\";width: 100%;border-bottom: 1px solid gray;flex-grow: 1;}#sk-container-id-7 div.sk-label:hover label.sk-toggleable__label {background-color: #d4ebff;}#sk-container-id-7 div.sk-serial::before {content: \"\";position: absolute;border-left: 1px solid gray;box-sizing: border-box;top: 0;bottom: 0;left: 50%;z-index: 0;}#sk-container-id-7 div.sk-serial {display: flex;flex-direction: column;align-items: center;background-color: white;padding-right: 0.2em;padding-left: 0.2em;position: relative;}#sk-container-id-7 div.sk-item {position: relative;z-index: 1;}#sk-container-id-7 div.sk-parallel {display: flex;align-items: stretch;justify-content: center;background-color: white;position: relative;}#sk-container-id-7 div.sk-item::before, #sk-container-id-7 div.sk-parallel-item::before {content: \"\";position: absolute;border-left: 1px solid gray;box-sizing: border-box;top: 0;bottom: 0;left: 50%;z-index: -1;}#sk-container-id-7 div.sk-parallel-item {display: flex;flex-direction: column;z-index: 1;position: relative;background-color: white;}#sk-container-id-7 div.sk-parallel-item:first-child::after {align-self: flex-end;width: 50%;}#sk-container-id-7 div.sk-parallel-item:last-child::after {align-self: flex-start;width: 50%;}#sk-container-id-7 div.sk-parallel-item:only-child::after {width: 0;}#sk-container-id-7 div.sk-dashed-wrapped {border: 1px dashed gray;margin: 0 0.4em 0.5em 0.4em;box-sizing: border-box;padding-bottom: 0.4em;background-color: white;}#sk-container-id-7 div.sk-label label {font-family: monospace;font-weight: bold;display: inline-block;line-height: 1.2em;}#sk-container-id-7 div.sk-label-container {text-align: center;}#sk-container-id-7 div.sk-container {/* jupyter's `normalize.less` sets `[hidden] { display: none; }` but bootstrap.min.css set `[hidden] { display: none !important; }` so we also need the `!important` here to be able to override the default hidden behavior on the sphinx rendered scikit-learn.org. See: https://github.com/scikit-learn/scikit-learn/issues/21755 */display: inline-block !important;position: relative;}#sk-container-id-7 div.sk-text-repr-fallback {display: none;}</style><div id=\"sk-container-id-7\" class=\"sk-top-container\"><div class=\"sk-text-repr-fallback\"><pre>KNeighborsClassifier(n_neighbors=11)</pre><b>In a Jupyter environment, please rerun this cell to show the HTML representation or trust the notebook. <br />On GitHub, the HTML representation is unable to render, please try loading this page with nbviewer.org.</b></div><div class=\"sk-container\" hidden><div class=\"sk-item\"><div class=\"sk-estimator sk-toggleable\"><input class=\"sk-toggleable__control sk-hidden--visually\" id=\"sk-estimator-id-7\" type=\"checkbox\" checked><label for=\"sk-estimator-id-7\" class=\"sk-toggleable__label sk-toggleable__label-arrow\">KNeighborsClassifier</label><div class=\"sk-toggleable__content\"><pre>KNeighborsClassifier(n_neighbors=11)</pre></div></div></div></div></div>"
      ],
      "text/plain": [
       "KNeighborsClassifier(n_neighbors=11)"
      ]
     },
     "execution_count": 104,
     "metadata": {},
     "output_type": "execute_result"
    }
   ],
   "source": [
    "# Fit is the training function. Fortunately sklearn is very consistent wahetever classifyer you use, always\n",
    "# the same structure is used.\n",
    "clf.fit(x_train, y_train)"
   ]
  },
  {
   "cell_type": "code",
   "execution_count": 105,
   "id": "e9fbe9fe",
   "metadata": {},
   "outputs": [
    {
     "data": {
      "text/plain": [
       "array(['Iris-virginica'], dtype=object)"
      ]
     },
     "execution_count": 105,
     "metadata": {},
     "output_type": "execute_result"
    }
   ],
   "source": [
    "# Function predict is used on a data frame containing one row of data (of one of the iris flowers)\n",
    "clf.predict(pd.DataFrame([[6.3, 2.7, 5.5, 1.5]], columns = [\"sepal length\", \"sepal width\", \"petal length\", \"petal width\"]))"
   ]
  },
  {
   "cell_type": "code",
   "execution_count": 106,
   "id": "4ad36e15",
   "metadata": {},
   "outputs": [
    {
     "data": {
      "text/plain": [
       "0.9666666666666667"
      ]
     },
     "execution_count": 106,
     "metadata": {},
     "output_type": "execute_result"
    }
   ],
   "source": [
    "# The score function is used to calculate the percentage correctly predicted flowers species.\n",
    "# Beware, the classifyer predicts the training set. The training set is the set about which the model\n",
    "# has knowledge. One of the neighbours taken into consideration is the row itself (so the majority vote includes \n",
    "# a vote about itself). If \"k\" is chosen to be lower, the difference becomes bigger.\n",
    "\n",
    "# Using the unseen test set is a more reliable way to judge the performance.  \n",
    "clf.score(x_train, y_train)"
   ]
  },
  {
   "cell_type": "code",
   "execution_count": 107,
   "id": "27761259",
   "metadata": {},
   "outputs": [
    {
     "data": {
      "text/plain": [
       "0.9833333333333333"
      ]
     },
     "execution_count": 107,
     "metadata": {},
     "output_type": "execute_result"
    }
   ],
   "source": [
    "# The score comes close to the train set score. The reason is that of eleven votes only one concerns itself, the other ten are independent. \n",
    "clf.score(x_test, y_test)"
   ]
  },
  {
   "cell_type": "code",
   "execution_count": 108,
   "id": "8d4f106b",
   "metadata": {},
   "outputs": [
    {
     "data": {
      "text/html": [
       "<style>#sk-container-id-8 {color: black;background-color: white;}#sk-container-id-8 pre{padding: 0;}#sk-container-id-8 div.sk-toggleable {background-color: white;}#sk-container-id-8 label.sk-toggleable__label {cursor: pointer;display: block;width: 100%;margin-bottom: 0;padding: 0.3em;box-sizing: border-box;text-align: center;}#sk-container-id-8 label.sk-toggleable__label-arrow:before {content: \"▸\";float: left;margin-right: 0.25em;color: #696969;}#sk-container-id-8 label.sk-toggleable__label-arrow:hover:before {color: black;}#sk-container-id-8 div.sk-estimator:hover label.sk-toggleable__label-arrow:before {color: black;}#sk-container-id-8 div.sk-toggleable__content {max-height: 0;max-width: 0;overflow: hidden;text-align: left;background-color: #f0f8ff;}#sk-container-id-8 div.sk-toggleable__content pre {margin: 0.2em;color: black;border-radius: 0.25em;background-color: #f0f8ff;}#sk-container-id-8 input.sk-toggleable__control:checked~div.sk-toggleable__content {max-height: 200px;max-width: 100%;overflow: auto;}#sk-container-id-8 input.sk-toggleable__control:checked~label.sk-toggleable__label-arrow:before {content: \"▾\";}#sk-container-id-8 div.sk-estimator input.sk-toggleable__control:checked~label.sk-toggleable__label {background-color: #d4ebff;}#sk-container-id-8 div.sk-label input.sk-toggleable__control:checked~label.sk-toggleable__label {background-color: #d4ebff;}#sk-container-id-8 input.sk-hidden--visually {border: 0;clip: rect(1px 1px 1px 1px);clip: rect(1px, 1px, 1px, 1px);height: 1px;margin: -1px;overflow: hidden;padding: 0;position: absolute;width: 1px;}#sk-container-id-8 div.sk-estimator {font-family: monospace;background-color: #f0f8ff;border: 1px dotted black;border-radius: 0.25em;box-sizing: border-box;margin-bottom: 0.5em;}#sk-container-id-8 div.sk-estimator:hover {background-color: #d4ebff;}#sk-container-id-8 div.sk-parallel-item::after {content: \"\";width: 100%;border-bottom: 1px solid gray;flex-grow: 1;}#sk-container-id-8 div.sk-label:hover label.sk-toggleable__label {background-color: #d4ebff;}#sk-container-id-8 div.sk-serial::before {content: \"\";position: absolute;border-left: 1px solid gray;box-sizing: border-box;top: 0;bottom: 0;left: 50%;z-index: 0;}#sk-container-id-8 div.sk-serial {display: flex;flex-direction: column;align-items: center;background-color: white;padding-right: 0.2em;padding-left: 0.2em;position: relative;}#sk-container-id-8 div.sk-item {position: relative;z-index: 1;}#sk-container-id-8 div.sk-parallel {display: flex;align-items: stretch;justify-content: center;background-color: white;position: relative;}#sk-container-id-8 div.sk-item::before, #sk-container-id-8 div.sk-parallel-item::before {content: \"\";position: absolute;border-left: 1px solid gray;box-sizing: border-box;top: 0;bottom: 0;left: 50%;z-index: -1;}#sk-container-id-8 div.sk-parallel-item {display: flex;flex-direction: column;z-index: 1;position: relative;background-color: white;}#sk-container-id-8 div.sk-parallel-item:first-child::after {align-self: flex-end;width: 50%;}#sk-container-id-8 div.sk-parallel-item:last-child::after {align-self: flex-start;width: 50%;}#sk-container-id-8 div.sk-parallel-item:only-child::after {width: 0;}#sk-container-id-8 div.sk-dashed-wrapped {border: 1px dashed gray;margin: 0 0.4em 0.5em 0.4em;box-sizing: border-box;padding-bottom: 0.4em;background-color: white;}#sk-container-id-8 div.sk-label label {font-family: monospace;font-weight: bold;display: inline-block;line-height: 1.2em;}#sk-container-id-8 div.sk-label-container {text-align: center;}#sk-container-id-8 div.sk-container {/* jupyter's `normalize.less` sets `[hidden] { display: none; }` but bootstrap.min.css set `[hidden] { display: none !important; }` so we also need the `!important` here to be able to override the default hidden behavior on the sphinx rendered scikit-learn.org. See: https://github.com/scikit-learn/scikit-learn/issues/21755 */display: inline-block !important;position: relative;}#sk-container-id-8 div.sk-text-repr-fallback {display: none;}</style><div id=\"sk-container-id-8\" class=\"sk-top-container\"><div class=\"sk-text-repr-fallback\"><pre>KNeighborsClassifier(n_neighbors=1)</pre><b>In a Jupyter environment, please rerun this cell to show the HTML representation or trust the notebook. <br />On GitHub, the HTML representation is unable to render, please try loading this page with nbviewer.org.</b></div><div class=\"sk-container\" hidden><div class=\"sk-item\"><div class=\"sk-estimator sk-toggleable\"><input class=\"sk-toggleable__control sk-hidden--visually\" id=\"sk-estimator-id-8\" type=\"checkbox\" checked><label for=\"sk-estimator-id-8\" class=\"sk-toggleable__label sk-toggleable__label-arrow\">KNeighborsClassifier</label><div class=\"sk-toggleable__content\"><pre>KNeighborsClassifier(n_neighbors=1)</pre></div></div></div></div></div>"
      ],
      "text/plain": [
       "KNeighborsClassifier(n_neighbors=1)"
      ]
     },
     "execution_count": 108,
     "metadata": {},
     "output_type": "execute_result"
    }
   ],
   "source": [
    "from sklearn import neighbors\n",
    "clf = neighbors.KNeighborsClassifier(n_neighbors = 1)\n",
    "clf.fit(x_train, y_train)"
   ]
  },
  {
   "cell_type": "code",
   "execution_count": 109,
   "id": "27ccf64a",
   "metadata": {},
   "outputs": [
    {
     "data": {
      "text/plain": [
       "1.0"
      ]
     },
     "execution_count": 109,
     "metadata": {},
     "output_type": "execute_result"
    }
   ],
   "source": [
    "# Classifying the training set on a model trained with \"k\" set to one is\n",
    "# fooling yourself. The nearest neighbour in that case is # same as the row \n",
    "# itself already present in memory. Predicting all samples correct is not \n",
    "# very difficult if the nearest neighbour is in fact the same entity!\n",
    "clf.score(x_train, y_train)"
   ]
  },
  {
   "cell_type": "code",
   "execution_count": 110,
   "id": "fbbfec76",
   "metadata": {},
   "outputs": [
    {
     "data": {
      "text/plain": [
       "0.9833333333333333"
      ]
     },
     "execution_count": 110,
     "metadata": {},
     "output_type": "execute_result"
    }
   ],
   "source": [
    "# At least now the neighbour is another entity! Because the test set is not already positioned in the multidimensional space.\n",
    "clf.score(x_test, y_test)"
   ]
  }
 ],
 "metadata": {
  "kernelspec": {
   "display_name": "Python 3 (ipykernel)",
   "language": "python",
   "name": "python3"
  },
  "language_info": {
   "codemirror_mode": {
    "name": "ipython",
    "version": 3
   },
   "file_extension": ".py",
   "mimetype": "text/x-python",
   "name": "python",
   "nbconvert_exporter": "python",
   "pygments_lexer": "ipython3",
   "version": "3.11.3"
  }
 },
 "nbformat": 4,
 "nbformat_minor": 5
}
